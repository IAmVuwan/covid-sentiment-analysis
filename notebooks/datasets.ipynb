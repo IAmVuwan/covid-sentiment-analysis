{
 "cells": [
  {
   "cell_type": "code",
   "execution_count": null,
   "id": "603f289f",
   "metadata": {},
   "outputs": [],
   "source": [
    "#@formatter:off\n",
    "!cd .. && pip install -q -e . && cd notebooks\n",
    "!pip install -r ../requirements.txt\n",
    "!docker-compose -f ../docker/corenlp.yaml up -d\n",
    "%matplotlib inline\n",
    "%load_ext autoreload\n",
    "%load_ext dotenv\n",
    "%dotenv\n",
    "%autoreload 2\n",
    "#@formatter:on"
   ]
  },
  {
   "cell_type": "code",
   "execution_count": null,
   "id": "ff35e783",
   "metadata": {},
   "outputs": [],
   "source": [
    "from csa.download import CsaDownloads\n",
    "downloads = CsaDownloads()\n",
    "downloads.extract_datasets()\n",
    "downloads.extract_embedded_datasets()"
   ]
  },
  {
   "cell_type": "code",
   "execution_count": null,
   "id": "3b2b766a",
   "metadata": {},
   "outputs": [],
   "source": [
    "from csa.utils import CsaUtils\n",
    "utils = CsaUtils()\n",
    "df = utils.get_raw_us_based_tweets()"
   ]
  },
  {
   "cell_type": "code",
   "execution_count": null,
   "id": "aa4a6cd2",
   "metadata": {},
   "outputs": [],
   "source": [
    "df.iloc[-1:]"
   ]
  },
  {
   "cell_type": "code",
   "execution_count": null,
   "id": "0cf9e714",
   "metadata": {},
   "outputs": [],
   "source": [
    "# Get column, non-null, type information in a DataFrame\n",
    "df.info()"
   ]
  },
  {
   "cell_type": "code",
   "execution_count": null,
   "id": "d5cbcbd0",
   "metadata": {},
   "outputs": [],
   "source": [
    "# Determine data shape in a DataFrame\n",
    "df.shape"
   ]
  },
  {
   "cell_type": "code",
   "execution_count": null,
   "id": "93bb1d11",
   "metadata": {},
   "outputs": [],
   "source": [
    "# Determine if ANY Value in a DataFrame is Missing\n",
    "df.isnull().values.any()"
   ]
  },
  {
   "cell_type": "code",
   "execution_count": null,
   "id": "1ab37d26",
   "metadata": {},
   "outputs": [],
   "source": [
    "# Count Missing Values in DataFrame\n",
    "df.isnull().sum()"
   ]
  },
  {
   "cell_type": "code",
   "execution_count": null,
   "id": "3c883715",
   "metadata": {},
   "outputs": [],
   "source": [
    "import pandas as pd\n",
    "df = pd.read_pickle(utils.preprocess_tweets_pkl)\n",
    "df"
   ]
  },
  {
   "cell_type": "code",
   "execution_count": null,
   "id": "4c4ed406",
   "metadata": {},
   "outputs": [],
   "source": [
    "df['flairScore'].value_counts()"
   ]
  },
  {
   "cell_type": "code",
   "execution_count": null,
   "id": "2dcbf7d8",
   "metadata": {},
   "outputs": [],
   "source": [
    "df['vaderScore'].value_counts()"
   ]
  },
  {
   "cell_type": "code",
   "execution_count": null,
   "id": "e1093586",
   "metadata": {},
   "outputs": [],
   "source": [
    "df['huggingfaceScore'].value_counts()"
   ]
  },
  {
   "cell_type": "code",
   "execution_count": null,
   "id": "e442d5f5",
   "metadata": {},
   "outputs": [],
   "source": []
  }
 ],
 "metadata": {
  "kernelspec": {
   "display_name": "Python 3 (ipykernel)",
   "language": "python",
   "name": "python3"
  },
  "language_info": {
   "codemirror_mode": {
    "name": "ipython",
    "version": 3
   },
   "file_extension": ".py",
   "mimetype": "text/x-python",
   "name": "python",
   "nbconvert_exporter": "python",
   "pygments_lexer": "ipython3",
   "version": "3.8.16"
  }
 },
 "nbformat": 4,
 "nbformat_minor": 5
}
