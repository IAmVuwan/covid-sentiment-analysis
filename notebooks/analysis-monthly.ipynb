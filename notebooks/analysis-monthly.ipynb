{
 "cells": [
  {
   "cell_type": "markdown",
   "metadata": {},
   "source": [
    "### Load essential libraries for exploratory analysis"
   ]
  },
  {
   "cell_type": "code",
   "execution_count": null,
   "metadata": {},
   "outputs": [],
   "source": [
    "%matplotlib inline\n",
    "import geopandas as gpd\n",
    "import pandas as pd\n",
    "import matplotlib.pyplot as plt\n",
    "import numpy as np\n",
    "\n",
    "import matplotlib.ticker as ticker\n",
    "from shapely import wkt\n",
    "\n",
    "import datetime"
   ]
  },
  {
   "cell_type": "markdown",
   "metadata": {},
   "source": [
    "### Loading the scores found from applying below analysis along with location information and timestamps\n",
    "<br>   a) LabMT Happiness Score\n",
    "<br>   b) Vader Compound Score\n",
    "<br>   c) CoreNLP Sentiment Score\n",
    "<br>   d) HuggingFace Sentiment Score\n",
    "<br>   e) Flair Sentiment Score\n",
    "<br>   f) Anxiety related keyword density\n",
    "<br>   g) COVID-19 related keyword density\n",
    "<br> And sanitize the data, eliminate abnormal scores"
   ]
  },
  {
   "cell_type": "code",
   "execution_count": null,
   "metadata": {},
   "outputs": [],
   "source": [
    "end_date_str='2022-10-01'"
   ]
  },
  {
   "cell_type": "code",
   "execution_count": null,
   "metadata": {},
   "outputs": [],
   "source": [
    "from csa.utils import CsaUtils\n",
    "utils = CsaUtils()\n",
    "\n",
    "df = pd.read_pickle(utils.preprocess_tweets_pkl)\n",
    "df = df[df['localDate'] < end_date_str]\n",
    "df"
   ]
  },
  {
   "cell_type": "code",
   "execution_count": null,
   "metadata": {},
   "outputs": [],
   "source": [
    "df = df[['tid','lat','long','happinessScore','vaderScore','cnlpScore','huggingfaceScore', 'flairScore','anxietyKeywordDensity','covid19KeywordDensity','localDate']]\n",
    "\n",
    "df = df[df[\"happinessScore\"] >= 1.3]\n",
    "df[\"anxiousTweetRatio\"] = 0\n",
    "df.loc[df.anxietyKeywordDensity > 0, 'anxiousTweetRatio'] = 1\n",
    "\n",
    "#df = df[:200]\n",
    "\n",
    "gdf = gpd.GeoDataFrame(df, geometry=gpd.points_from_xy(df.long, df.lat))\n",
    "gdf.crs = \"EPSG:4326\""
   ]
  },
  {
   "cell_type": "markdown",
   "metadata": {},
   "source": [
    "### Load both shapefiles for County map and State map of USA\n",
    "<br> Apply required projection to display/plot properly"
   ]
  },
  {
   "cell_type": "code",
   "execution_count": null,
   "metadata": {},
   "outputs": [],
   "source": [
    "from csa.utils import CsaUtils\n",
    "utils = CsaUtils()\n",
    "county_map = gpd.read_file(f'{utils.raw_dir}/maps/us_counties/sh.shp')\n",
    "county_map = county_map.to_crs(\"EPSG:4326\")"
   ]
  },
  {
   "cell_type": "code",
   "execution_count": null,
   "metadata": {},
   "outputs": [],
   "source": [
    "state_map = gpd.read_file(f'{utils.raw_dir}/maps/us_states/sh.shp')\n",
    "state_map = state_map.to_crs(\"EPSG:4326\")\n",
    "projection = \"+proj=laea +lat_0=30 +lon_0=-95\"\n",
    "state_map = state_map.to_crs(projection)\n",
    "state_map.rename(columns={'STATEFP': 'FIPS'}, inplace=True)"
   ]
  },
  {
   "cell_type": "code",
   "execution_count": null,
   "metadata": {},
   "outputs": [],
   "source": [
    "state_map = state_map.drop_duplicates(subset=['STUSPS'])\n",
    "state_map = state_map.sort_values(by=['STUSPS'], ascending=True)"
   ]
  },
  {
   "cell_type": "code",
   "execution_count": null,
   "metadata": {},
   "outputs": [],
   "source": [
    "state_map.plot(cmap='magma', figsize=(12, 12))"
   ]
  },
  {
   "cell_type": "code",
   "execution_count": null,
   "metadata": {},
   "outputs": [],
   "source": [
    "STUSPS = state_map[\"STUSPS\"].unique().tolist()\n",
    "county_map = county_map[county_map[\"STATE\"].isin(STUSPS)]"
   ]
  },
  {
   "cell_type": "code",
   "execution_count": null,
   "metadata": {},
   "outputs": [],
   "source": [
    "county_map.plot(cmap='magma', figsize=(12, 12))"
   ]
  },
  {
   "cell_type": "markdown",
   "metadata": {},
   "source": [
    "### Join each Score with Map and apply rolling average on each score for 30 days"
   ]
  },
  {
   "cell_type": "code",
   "execution_count": null,
   "metadata": {},
   "outputs": [],
   "source": [
    "joined_gdf = gpd.sjoin(gdf, county_map, how='inner', op='within')\n",
    "\n",
    "happinessScoreFIPS=joined_gdf[['tid', 'happinessScore', 'FIPS']]\n",
    "vaderScoreFIPS=joined_gdf[['tid', 'vaderScore', 'FIPS']]\n",
    "cnlpScoreFIPS=joined_gdf[['tid', 'cnlpScore', 'FIPS']]\n",
    "huggingfaceScoreFIPS=joined_gdf[['tid', 'huggingfaceScore', 'FIPS']]\n",
    "flairScoreFIPS=joined_gdf[['tid', 'flairScore', 'FIPS']]\n",
    "anxiousTweetRatioFIPS=joined_gdf[['tid', 'anxiousTweetRatio', 'FIPS']]\n",
    "covid19KeywordDensityFIPS=joined_gdf[['tid', 'covid19KeywordDensity', 'FIPS']]\n",
    "\n",
    "allScoreFIPS1=joined_gdf[['tid','FIPS', 'happinessScore','vaderScore','cnlpScore','huggingfaceScore', 'flairScore','anxietyKeywordDensity','covid19KeywordDensity','localDate','anxiousTweetRatio']]\n",
    "\n",
    "for col in ['happinessScore','vaderScore','cnlpScore','huggingfaceScore','flairScore','anxietyKeywordDensity','covid19KeywordDensity','anxiousTweetRatio']:\n",
    "    allScoreFIPS1[col] = allScoreFIPS1[col].rolling(30).mean()\n",
    "allScoreFIPS1.dropna(axis = 0, inplace=True)"
   ]
  },
  {
   "cell_type": "markdown",
   "metadata": {},
   "source": [
    "### Load NyTimes COVID-19 Data"
   ]
  },
  {
   "cell_type": "code",
   "execution_count": null,
   "metadata": {},
   "outputs": [],
   "source": [
    "covidData_nytimes1 = utils.get_raw_nytimes_us_states()\n",
    "covidData_nytimes1 = covidData_nytimes1[covidData_nytimes1['date'] < end_date_str]"
   ]
  },
  {
   "cell_type": "markdown",
   "metadata": {},
   "source": [
    "### Get Top Infected states\n",
    "\n",
    "<br>Generate the list of state IDs (FIPS) containing\n",
    "<br>    a) Three most infected states' ID\n",
    "<br>    b) Three least infected states' ID\n",
    "<br>    c) Three median states' ID "
   ]
  },
  {
   "cell_type": "code",
   "execution_count": null,
   "metadata": {},
   "outputs": [],
   "source": [
    "allScoreFIPS = allScoreFIPS1.copy()\n",
    "allScoreFIPS['FIPS'] = allScoreFIPS['FIPS'].astype(int)/1000\n",
    "allScoreFIPS['FIPS'] = allScoreFIPS['FIPS'].astype(int)\n",
    "valid_fips = allScoreFIPS['FIPS'].unique()\n",
    "valid_fips"
   ]
  },
  {
   "cell_type": "code",
   "execution_count": null,
   "metadata": {},
   "outputs": [],
   "source": [
    "covidData_nytimes2 = covidData_nytimes1.copy()\n",
    "covidData_nytimes2 = covidData_nytimes2[covidData_nytimes2['fips'].isin(valid_fips)]\n",
    "covidData_nytimes2['fips'].unique()"
   ]
  },
  {
   "cell_type": "code",
   "execution_count": null,
   "metadata": {},
   "outputs": [],
   "source": [
    "start = covidData_nytimes2['cases']\n",
    "covidData_nytimes2['newCases'] = covidData_nytimes2.groupby('state')['cases'].diff().fillna(start)\n",
    "covidData_nytimes2.newCases[covidData_nytimes2['newCases'] < 0] = 0\n",
    "start = covidData_nytimes2['deaths']\n",
    "covidData_nytimes2['newDeaths'] = covidData_nytimes2.groupby('state')['deaths'].diff().fillna(start)\n",
    "covidData_nytimes2.newDeaths[covidData_nytimes2['newDeaths'] < 0] = 0\n",
    "covidData_nytimes2"
   ]
  },
  {
   "cell_type": "code",
   "execution_count": null,
   "metadata": {},
   "outputs": [],
   "source": [
    "tdf = covidData_nytimes2.groupby('state').agg({'newCases': 'sum', 'newDeaths': 'sum'}).sort_values(['newCases', 'newDeaths'], ascending=False)\n",
    "tdf"
   ]
  },
  {
   "cell_type": "code",
   "execution_count": null,
   "metadata": {},
   "outputs": [],
   "source": [
    "covidData_nytimes = covidData_nytimes2.copy()\n",
    "for col in ['newDeaths','newCases']:\n",
    "    covidData_nytimes[col] = covidData_nytimes[col].rolling(30).mean()\n",
    "covidData_nytimes.dropna(axis=0, inplace=True)"
   ]
  },
  {
   "cell_type": "code",
   "execution_count": null,
   "metadata": {
    "scrolled": true
   },
   "outputs": [],
   "source": [
    "covidData_nytimes['date'] = pd.to_datetime(covidData_nytimes['date'])\n",
    "covidData_nytimes['month_number'] = covidData_nytimes['date'].apply(lambda x: x.strftime('%Y-%m'))\n",
    "covidData_nytimes.rename(columns={'date': 'localDate', 'fips': 'FIPS'}, inplace=True)\n",
    "\n",
    "allScoreFIPS['localDate'] = pd.to_datetime(allScoreFIPS['localDate'])\n",
    "allScoreFIPS['month_number'] = allScoreFIPS['localDate'].apply(lambda x: x.strftime('%Y-%m'))\n",
    "allScoreFIPS = allScoreFIPS.sort_values(by=['localDate','FIPS'], ascending=True)\n",
    "covidData_nytimes = covidData_nytimes.sort_values(by=['localDate','FIPS'], ascending=True)"
   ]
  },
  {
   "cell_type": "code",
   "execution_count": null,
   "metadata": {},
   "outputs": [],
   "source": [
    "# Function to convert list of state FIPS to list of state name\n",
    "def getListOfStateNames(listOfFIPS):\n",
    "    nameList = []\n",
    "    for fips in listOfFIPS:\n",
    "        nameList.append(''.join(covidData_nytimes[covidData_nytimes['FIPS'] == fips]['state'].unique()))\n",
    "    return nameList"
   ]
  },
  {
   "cell_type": "code",
   "execution_count": null,
   "metadata": {},
   "outputs": [],
   "source": [
    "tdf = covidData_nytimes.groupby('FIPS').agg({'newCases': 'sum', 'newDeaths': 'sum'}).sort_values(['newCases', 'newDeaths'], ascending=False)\n",
    "# get top 3\n",
    "top3 = tdf[:3]\n",
    "# get bottom 3\n",
    "bottom3 = tdf[-3:]\n",
    "# get the median of the middle three rows\n",
    "n = len(tdf)  # length of the DataFrame\n",
    "mid_start = (n - 3) // 2  # index of the first middle row\n",
    "mid_end = mid_start + 3  # index of the row after the last middle row\n",
    "mid3 = tdf.iloc[mid_start:mid_end]  # get the middle three rows\n",
    "top3\n",
    "print(\"======================\")\n",
    "print(\"Three most infected states:\", getListOfStateNames(top3.index))\n",
    "print(\"======================\")\n",
    "print(\"Three median states:\", getListOfStateNames(mid3.index))\n",
    "print(\"======================\")\n",
    "print(\"Three least infected states:\", getListOfStateNames(bottom3.index))\n",
    "print(\"======================\")\n",
    "fips_list = np.concatenate([top3.index, mid3.index, bottom3.index])\n",
    "print(fips_list)"
   ]
  },
  {
   "cell_type": "markdown",
   "metadata": {},
   "source": [
    "### For each selected State"
   ]
  },
  {
   "cell_type": "code",
   "execution_count": null,
   "metadata": {},
   "outputs": [],
   "source": [
    "# Function to get the start date of the Month\n",
    "def get_start_date(year, month):\n",
    "    return datetime.datetime.strptime(f'{year}-{month}-1', \"%Y-%m-%d\").date()\n",
    "\n",
    "# Function to Normalize data (min-max)\n",
    "def maxMinNormalize(dataTable, colName):\n",
    "    max_val = dataTable[colName].max()\n",
    "    min_val = dataTable[colName].min()\n",
    "    if max_val > min_val:        \n",
    "        v = (dataTable[colName]-min_val)/(max_val-min_val)\n",
    "        dataTable[colName] = v\n",
    "    return dataTable"
   ]
  },
  {
   "cell_type": "code",
   "execution_count": null,
   "metadata": {},
   "outputs": [],
   "source": [
    "covidData_nytimes"
   ]
  },
  {
   "cell_type": "code",
   "execution_count": null,
   "metadata": {
    "scrolled": false
   },
   "outputs": [],
   "source": [
    "maxCorrFactors=[]\n",
    "merged={}\n",
    "\n",
    "pd.options.mode.chained_assignment = None\n",
    "for fips in fips_list:\n",
    "    allScoreFIPS_county = allScoreFIPS[allScoreFIPS['FIPS']==fips]\n",
    "    allScoreFIPS_county.drop('FIPS', axis=1, inplace=True)\n",
    "    allScoreFIPS_county.dropna(axis = 0, inplace=True)\n",
    "#     print(allScoreFIPS_county)\n",
    "    allScoreFIPS_county = allScoreFIPS_county.pivot_table(index=['month_number'], aggfunc='mean')\n",
    "\n",
    "    covidData_nytimes_county = covidData_nytimes[(covidData_nytimes['FIPS']==fips)]\n",
    "    covidData_nytimes_county.drop('FIPS', axis=1, inplace=True)    \n",
    "    \n",
    "    covidData_nytimes_county = covidData_nytimes_county.pivot_table(index=['month_number'], aggfunc='mean')\n",
    "    \n",
    "#     print(\"+++ \", fips, \" +++\")\n",
    "    merged[fips] = allScoreFIPS_county.merge(covidData_nytimes_county, on=['month_number'], how='left')\n",
    "    merged[fips] = merged[fips].sort_values(by=['month_number'], ascending=True)\n",
    "\n",
    "    merged[fips] = maxMinNormalize(merged[fips], 'newCases')\n",
    "    merged[fips] = maxMinNormalize(merged[fips], 'newDeaths')\n",
    "    merged[fips] = maxMinNormalize(merged[fips], 'happinessScore')\n",
    "    merged[fips] = maxMinNormalize(merged[fips], 'vaderScore')\n",
    "    merged[fips] = maxMinNormalize(merged[fips], 'cnlpScore')\n",
    "    merged[fips] = maxMinNormalize(merged[fips], 'huggingfaceScore')\n",
    "    merged[fips] = maxMinNormalize(merged[fips], 'flairScore')    \n",
    "    merged[fips] = maxMinNormalize(merged[fips], 'anxiousTweetRatio')\n",
    "    merged[fips] = maxMinNormalize(merged[fips], 'covid19KeywordDensity')\n",
    "    \n",
    "    new_index = []\n",
    "    for month_number in merged[fips].index:\n",
    "        parts = month_number.split(\"-\")\n",
    "        year = int(parts[0])\n",
    "        month = int(parts[1])\n",
    "        new_index.append(get_start_date(year, month).strftime('%Y-%m'))\n",
    "    merged[fips].index = new_index"
   ]
  },
  {
   "cell_type": "markdown",
   "metadata": {},
   "source": [
    "### For each selected State\n",
    "<br>    Draw line charts with all attributes against time for each state."
   ]
  },
  {
   "cell_type": "code",
   "execution_count": null,
   "metadata": {
    "scrolled": false
   },
   "outputs": [],
   "source": [
    "covid_stats_attrs = [\"newCases\",\"newDeaths\"]\n",
    "sentiment_score_attrs = [\"happinessScore\",\"vaderScore\",\"cnlpScore\", \"huggingfaceScore\", \"flairScore\"]\n",
    "line_color_set = ['#1f77b4', '#ff7f0e', '#2ca02c', '#d62728', '#9467bd']\n",
    "line_marker_set = ['.', 'x', 'd', '^', '<']\n",
    "\n",
    "for fips in fips_list:\n",
    "    plt.clf()\n",
    "    plt.cla()\n",
    "    plt.close()\n",
    "    state_name = ''.join(covidData_nytimes[covidData_nytimes['FIPS'] == fips]['state'].unique())\n",
    "    print(\"\\n======================================= State =\", state_name, \"===========================================\")\n",
    "\n",
    "    fig = plt.figure(figsize=(18,9))\n",
    "    \n",
    "    line_index = 0\n",
    "    ax1 = fig.add_subplot(211)\n",
    "    plt.margins(x=0.005)\n",
    "\n",
    "    ax1.set_title(state_name + \" (newCases vs All Sentiment Scores)\")\n",
    "    ax1.xaxis.set_major_locator(ticker.MultipleLocator(1))\n",
    "    merged[fips].plot(ax=ax1, y=\"newCases\", linewidth=2, linestyle='--', color='black', alpha=0.7)\n",
    "    for y in sentiment_score_attrs:\n",
    "        merged[fips].plot(ax=ax1, y=y, linestyle='-', marker=line_marker_set[line_index], color=line_color_set[line_index], alpha=0.6-(0.1*line_index))\n",
    "        line_index += 1\n",
    "    plt.grid(axis=\"x\", color='black', alpha=0.1, linewidth=0.7)\n",
    "    \n",
    "    line_index = 0\n",
    "    ax2 = fig.add_subplot(212)\n",
    "    plt.margins(x=0.005)\n",
    "\n",
    "    ax2.set_title(state_name + \" (newDeaths vs All Sentiment Scores)\")\n",
    "    ax2.xaxis.set_major_locator(ticker.MultipleLocator(1))\n",
    "    merged[fips].plot(ax=ax2, y=\"newDeaths\", linewidth=1, linestyle='--', color='black', alpha=0.8)\n",
    "    for y in sentiment_score_attrs:\n",
    "        merged[fips].plot(ax=ax2, y=y, linestyle='-', marker=line_marker_set[line_index], color=line_color_set[line_index], alpha=0.7-(0.1*line_index))\n",
    "        line_index += 1\n",
    "    plt.grid(axis=\"x\", color='black', alpha=0.1, linewidth=0.7)\n",
    "    plt.gcf().autofmt_xdate()\n",
    "    plt.show()\n",
    "        \n",
    "print(\"\\n======================== Plotting Anxious Tweet Ratio Scores =============================\")\n",
    "for fips in fips_list:\n",
    "    line_index = 0\n",
    "    plt.clf()\n",
    "    plt.cla()\n",
    "    plt.close()\n",
    "    state_name = ''.join(covidData_nytimes[covidData_nytimes['FIPS'] == fips]['state'].unique())\n",
    "    \n",
    "    fig, ax = plt.subplots(1, figsize=(18,4))\n",
    "    ax.set_title(state_name + \" (Anxious Tweet Ratio vs COVID Stats)\")\n",
    "    ax.xaxis.set_major_locator(ticker.MultipleLocator(1))\n",
    "    merged[fips].plot(ax=ax, y=\"anxiousTweetRatio\", linestyle='-', color='black', alpha=0.8)\n",
    "    for x in covid_stats_attrs:\n",
    "        merged[fips].plot(ax=ax, y=x, linewidth=2, linestyle='--',\n",
    "                          marker=line_marker_set[line_index], color=line_color_set[line_index], alpha=0.6)\n",
    "        line_index += 1\n",
    "    plt.margins(x=0.005)\n",
    "    plt.grid(axis=\"x\", color='black', alpha=0.1, linewidth=0.7)\n",
    "    plt.gcf().autofmt_xdate()\n",
    "    plt.show()\n",
    "\n",
    "print(\"\\n======================== Plotting COVID-19 Keyword Density Scores =============================\")\n",
    "for fips in fips_list:\n",
    "    line_index = 0\n",
    "    plt.clf()\n",
    "    plt.cla()\n",
    "    plt.close()\n",
    "    state_name = ''.join(covidData_nytimes[covidData_nytimes['FIPS'] == fips]['state'].unique())\n",
    "    \n",
    "    fig, ax = plt.subplots(1, figsize=(18,4))\n",
    "    ax.set_title(state_name + \" (COVID-19 Keyword Density vs COVID Stats)\")\n",
    "    ax.xaxis.set_major_locator(ticker.MultipleLocator(1))\n",
    "    merged[fips].plot(ax=ax, y=\"covid19KeywordDensity\", linestyle='-', color='black', alpha=0.8)\n",
    "    for x in covid_stats_attrs:\n",
    "        merged[fips].plot(ax=ax, y=x, linewidth=2, linestyle='--',\n",
    "                          marker=line_marker_set[line_index], color=line_color_set[line_index], alpha=0.6)\n",
    "        line_index += 1\n",
    "    plt.margins(x=0.005)\n",
    "    plt.grid(axis=\"x\", color='black', alpha=0.1, linewidth=0.7)\n",
    "    plt.gcf().autofmt_xdate()\n",
    "    plt.show()"
   ]
  },
  {
   "cell_type": "markdown",
   "metadata": {},
   "source": [
    "### Prepare US County map to Plot Happiness Score, Vader Sentiment Score, CoreNLP Sentiment Score"
   ]
  },
  {
   "cell_type": "code",
   "execution_count": null,
   "metadata": {},
   "outputs": [],
   "source": [
    "# Function to merge all available scores in the map based on location information (FIPS), skew the map and get Mean values\n",
    "def mergeSkewAndgetMean(dataTable, mapTable, projectionStr):\n",
    "    county_data = pd.merge(mapTable, dataTable, on='FIPS', how='inner')\n",
    "    county_avg_data = county_data.groupby(['FIPS','geometry'], as_index=False, sort=False).mean()\n",
    "    county_avg_data.crs = \"EPSG:4326\"\n",
    "    county_avg_data['geometry'] = county_avg_data['geometry'].apply(wkt.loads)\n",
    "    county_avg_data = gpd.GeoDataFrame(county_avg_data, geometry='geometry')\n",
    "    county_avg_data.crs = \"EPSG:4326\"\n",
    "    county_avg_data = county_avg_data.to_crs(projectionStr)\n",
    "    return county_avg_data"
   ]
  },
  {
   "cell_type": "code",
   "execution_count": null,
   "metadata": {},
   "outputs": [],
   "source": [
    "county_map['geometry'] = county_map['geometry'].astype(str)\n",
    "cmap = \"Paired\""
   ]
  },
  {
   "cell_type": "markdown",
   "metadata": {},
   "source": [
    "### Plot the Happiness Scores"
   ]
  },
  {
   "cell_type": "code",
   "execution_count": null,
   "metadata": {},
   "outputs": [],
   "source": [
    "county_avg_happinessScore = mergeSkewAndgetMean(happinessScoreFIPS, county_map, projection)\n",
    "county_avg_happinessScore"
   ]
  },
  {
   "cell_type": "code",
   "execution_count": null,
   "metadata": {},
   "outputs": [],
   "source": [
    "fig, ax = plt.subplots(1, figsize=(11,8.5))\n",
    "ax.axis('off')\n",
    "county_avg_happinessScore.plot(ax=ax, column='happinessScore', legend=True, scheme='quantiles', linewidth=0.3, edgecolor='0.8', legend_kwds={'loc': 'lower left'}, cmap=cmap)\n",
    "state_map.plot(facecolor=\"none\", ax=ax, linewidth=0.4, edgecolor='0')"
   ]
  },
  {
   "cell_type": "markdown",
   "metadata": {},
   "source": [
    "### Plot the Vader Scores"
   ]
  },
  {
   "cell_type": "code",
   "execution_count": null,
   "metadata": {},
   "outputs": [],
   "source": [
    "county_avg_vaderScore = mergeSkewAndgetMean(vaderScoreFIPS, county_map, projection)\n",
    "county_avg_vaderScore"
   ]
  },
  {
   "cell_type": "code",
   "execution_count": null,
   "metadata": {},
   "outputs": [],
   "source": [
    "county_avg_vaderScore[\"sentiText\"] = \"Neutral\"\n",
    "county_avg_vaderScore.loc[county_avg_vaderScore.vaderScore > 0.5, 'sentiText'] = \"Positive\"\n",
    "county_avg_vaderScore.loc[county_avg_vaderScore.vaderScore < -0.5, 'sentiText'] = \"Negative\"\n",
    "\n",
    "fig, ax = plt.subplots(1, figsize=(11,8.5))\n",
    "ax.axis('off')\n",
    "county_avg_vaderScore.plot(ax=ax, column='sentiText', legend=True, linewidth=0.3,\n",
    "                       edgecolor='0.8', legend_kwds={'loc': 'lower left'}, cmap=cmap)\n",
    "state_map.plot(facecolor=\"none\", ax=ax, linewidth=0.4, edgecolor='0')"
   ]
  },
  {
   "cell_type": "markdown",
   "metadata": {},
   "source": [
    "### Plot CNLP Scores"
   ]
  },
  {
   "cell_type": "code",
   "execution_count": null,
   "metadata": {},
   "outputs": [],
   "source": [
    "county_avg_cnlpScore = mergeSkewAndgetMean(cnlpScoreFIPS, county_map, projection)\n",
    "county_avg_cnlpScore"
   ]
  },
  {
   "cell_type": "code",
   "execution_count": null,
   "metadata": {
    "scrolled": false
   },
   "outputs": [],
   "source": [
    "county_avg_cnlpScore[\"sentiText\"] = \"Neutral\"\n",
    "county_avg_cnlpScore.loc[(county_avg_cnlpScore.cnlpScore >= 0.5) \n",
    "                                     & (county_avg_cnlpScore.cnlpScore < 1.5), 'sentiText'] = \"Positive\"\n",
    "county_avg_cnlpScore.loc[(county_avg_cnlpScore.cnlpScore <= -0.5) \n",
    "                                     & (county_avg_cnlpScore.cnlpScore > -1.5), 'sentiText'] = \"Negative\"\n",
    "county_avg_cnlpScore.loc[county_avg_cnlpScore.cnlpScore >= 1.5, 'sentiText'] = \"Very positive\"\n",
    "county_avg_cnlpScore.loc[county_avg_cnlpScore.cnlpScore <= -1.5, 'sentiText'] = \"Very negative\"\n",
    "\n",
    "fig, ax = plt.subplots(1, figsize=(11,8.5))\n",
    "ax.axis('off')\n",
    "county_avg_cnlpScore.plot(ax=ax, column='sentiText', legend=True, linewidth=0.3,\n",
    "                       edgecolor='0.8', legend_kwds={'loc': 'lower left'}, cmap=cmap)\n",
    "state_map.plot(facecolor=\"none\", ax=ax, linewidth=0.4, edgecolor='0')"
   ]
  },
  {
   "cell_type": "markdown",
   "metadata": {},
   "source": [
    "### Plot Hugging Face Scores"
   ]
  },
  {
   "cell_type": "code",
   "execution_count": null,
   "metadata": {},
   "outputs": [],
   "source": [
    "county_avg_huggingfaceScore = mergeSkewAndgetMean(huggingfaceScoreFIPS, county_map, projection)\n",
    "county_avg_huggingfaceScore"
   ]
  },
  {
   "cell_type": "code",
   "execution_count": null,
   "metadata": {},
   "outputs": [],
   "source": [
    "county_avg_huggingfaceScore[\"sentiText\"] = \"Neutral\"\n",
    "county_avg_huggingfaceScore.loc[county_avg_huggingfaceScore.huggingfaceScore > 0, 'sentiText'] = \"Positive\"\n",
    "county_avg_huggingfaceScore.loc[county_avg_huggingfaceScore.huggingfaceScore < 0, 'sentiText'] = \"Negative\"\n",
    "\n",
    "fig, ax = plt.subplots(1, figsize=(12,12))\n",
    "ax.axis('off')\n",
    "county_avg_huggingfaceScore.plot(ax=ax, column='sentiText', legend=True, linewidth=0.3,\n",
    "                          edgecolor='0.8', legend_kwds={'loc': 'lower left'}, cmap=cmap)\n",
    "state_map.plot(facecolor=\"none\", ax=ax, linewidth=0.4, edgecolor='0')"
   ]
  },
  {
   "cell_type": "markdown",
   "metadata": {},
   "source": [
    "### Plot Flair Scores"
   ]
  },
  {
   "cell_type": "code",
   "execution_count": null,
   "metadata": {},
   "outputs": [],
   "source": [
    "county_avg_flairScore = mergeSkewAndgetMean(flairScoreFIPS, county_map, projection)\n",
    "county_avg_flairScore"
   ]
  },
  {
   "cell_type": "code",
   "execution_count": null,
   "metadata": {},
   "outputs": [],
   "source": [
    "county_avg_flairScore[\"sentiText\"] = \"Neutral\"\n",
    "county_avg_flairScore.loc[county_avg_flairScore.flairScore > 0, 'sentiText'] = \"Positive\"\n",
    "county_avg_flairScore.loc[county_avg_flairScore.flairScore < 0, 'sentiText'] = \"Negative\"\n",
    "\n",
    "fig, ax = plt.subplots(1, figsize=(12,12))\n",
    "ax.axis('off')\n",
    "county_avg_flairScore.plot(ax=ax, column='sentiText', legend=True, linewidth=0.3,\n",
    "                          edgecolor='0.8', legend_kwds={'loc': 'lower left'}, cmap=cmap)\n",
    "state_map.plot(facecolor=\"none\", ax=ax, linewidth=0.4, edgecolor='0')"
   ]
  },
  {
   "cell_type": "markdown",
   "metadata": {},
   "source": [
    "### Plot Average Anxious Tweet Ratio Scores"
   ]
  },
  {
   "cell_type": "code",
   "execution_count": null,
   "metadata": {},
   "outputs": [],
   "source": [
    "county_avg_anxiousTweetRatio = mergeSkewAndgetMean(anxiousTweetRatioFIPS, county_map, projection)\n",
    "county_avg_anxiousTweetRatio"
   ]
  },
  {
   "cell_type": "code",
   "execution_count": null,
   "metadata": {},
   "outputs": [],
   "source": [
    "county_avg_anxiousTweetRatio[\"percentText\"] = \"Below 1%\"\n",
    "county_avg_anxiousTweetRatio.loc[(county_avg_anxiousTweetRatio.anxiousTweetRatio >= 0.01) \n",
    "                                     & (county_avg_anxiousTweetRatio.anxiousTweetRatio <= 0.05), 'percentText'] = \"1% ~ 5%\"\n",
    "county_avg_anxiousTweetRatio.loc[(county_avg_anxiousTweetRatio.anxiousTweetRatio > 0.05) \n",
    "                                     & (county_avg_anxiousTweetRatio.anxiousTweetRatio <= 0.10), 'percentText'] = \"5% ~ 10%\"\n",
    "county_avg_anxiousTweetRatio.loc[(county_avg_anxiousTweetRatio.anxiousTweetRatio > 0.10) \n",
    "                                     & (county_avg_anxiousTweetRatio.anxiousTweetRatio <= 0.50), 'percentText'] = \"10% ~ 50%\"\n",
    "county_avg_anxiousTweetRatio.loc[county_avg_anxiousTweetRatio.anxiousTweetRatio > 0.50, 'percentText'] = \"Above 50%\"\n",
    "\n",
    "fig, ax = plt.subplots(1, figsize=(11,8.5))\n",
    "ax.axis('off')\n",
    "county_avg_anxiousTweetRatio.plot(ax=ax, column='percentText', legend=True, linewidth=0.3,\n",
    "                       edgecolor='0.8', legend_kwds={'loc': 'lower left'}, cmap=cmap)\n",
    "state_map.plot(facecolor=\"none\", ax=ax, linewidth=0.4, edgecolor='0')"
   ]
  },
  {
   "cell_type": "markdown",
   "metadata": {},
   "source": [
    "### Plot COVID-19 keyword density Scores"
   ]
  },
  {
   "cell_type": "code",
   "execution_count": null,
   "metadata": {},
   "outputs": [],
   "source": [
    "county_avg_covid19KeywordDensity = mergeSkewAndgetMean(covid19KeywordDensityFIPS, county_map, projection)\n",
    "county_avg_covid19KeywordDensity"
   ]
  },
  {
   "cell_type": "code",
   "execution_count": null,
   "metadata": {
    "scrolled": false
   },
   "outputs": [],
   "source": [
    "county_avg_covid19KeywordDensity[\"percentText\"] = \"Below 1%\"\n",
    "county_avg_covid19KeywordDensity.loc[(county_avg_covid19KeywordDensity.covid19KeywordDensity >= 0.01) \n",
    "                                     & (county_avg_covid19KeywordDensity.covid19KeywordDensity <= 0.02), 'percentText'] = \"1% ~ 2%\"\n",
    "county_avg_covid19KeywordDensity.loc[(county_avg_covid19KeywordDensity.covid19KeywordDensity > 0.02) \n",
    "                                     & (county_avg_covid19KeywordDensity.covid19KeywordDensity <= 0.05), 'percentText'] = \"2% ~ 5%\"\n",
    "county_avg_covid19KeywordDensity.loc[county_avg_covid19KeywordDensity.covid19KeywordDensity > 0.05, 'percentText'] = \"Above 5%\"\n",
    "\n",
    "fig, ax = plt.subplots(1, figsize=(11,8.5))\n",
    "ax.axis('off')\n",
    "county_avg_covid19KeywordDensity.plot(ax=ax, column='percentText', legend=True, linewidth=0.3,\n",
    "                       edgecolor='0.8', legend_kwds={'loc': 'lower left'}, cmap=cmap)\n",
    "state_map.plot(facecolor=\"none\", ax=ax, linewidth=0.4, edgecolor='0')"
   ]
  }
 ],
 "metadata": {
  "kernelspec": {
   "display_name": "Python 3 (ipykernel)",
   "language": "python",
   "name": "python3"
  },
  "language_info": {
   "codemirror_mode": {
    "name": "ipython",
    "version": 3
   },
   "file_extension": ".py",
   "mimetype": "text/x-python",
   "name": "python",
   "nbconvert_exporter": "python",
   "pygments_lexer": "ipython3",
   "version": "3.9.12"
  }
 },
 "nbformat": 4,
 "nbformat_minor": 4
}
